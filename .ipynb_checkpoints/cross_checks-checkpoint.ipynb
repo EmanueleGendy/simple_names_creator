{
 "cells": [
  {
   "cell_type": "code",
   "execution_count": 135,
   "id": "d4891a9c-29d3-4060-a867-61ad010a64f7",
   "metadata": {},
   "outputs": [],
   "source": [
    "import torch\n",
    "import torch.nn as nn\n",
    "import torch.nn.init as init\n",
    "import numpy as np\n",
    "import matplotlib.pyplot as plt"
   ]
  },
  {
   "cell_type": "code",
   "execution_count": 136,
   "id": "5edaa787-0845-4dcc-af03-441643d8ba04",
   "metadata": {},
   "outputs": [],
   "source": [
    "nL = 20\n",
    "cw = np.sqrt(10./nL)\n",
    "cb = 0.\n",
    "n_inputs = 100\n",
    "n_samples = 300"
   ]
  },
  {
   "cell_type": "code",
   "execution_count": 137,
   "id": "3e318175-eaa4-4cac-8a53-1e42198de2f1",
   "metadata": {},
   "outputs": [],
   "source": [
    "class Linear_NN(nn.Module):\n",
    "    def __init__(self):\n",
    "        super(Linear_NN, self).__init__()\n",
    "        self.firstlayer = nn.Linear(in_features=200, out_features=nL)\n",
    "        self.layer1 = nn.Linear(nL, nL)\n",
    "        self.layer2 = nn.Linear(nL, nL)\n",
    "        self.layer3 = nn.Linear(nL, nL)\n",
    "        self.layer4 = nn.Linear(nL, nL)\n",
    "        self.layer5 = nn.Linear(nL, nL)\n",
    "        self.finallayer = nn.Linear(in_features=nL, out_features=1)\n",
    "        \n",
    "        # Initialize weights from a Gaussian distribution\n",
    "        init.normal_(self.firstlayer.weight, mean=0.0, std=cw)\n",
    "        init.normal_(self.layer1.weight, mean=0.0, std=cw)\n",
    "        init.normal_(self.layer2.weight, mean=0.0, std=cw)\n",
    "        init.normal_(self.layer3.weight, mean=0.0, std=cw)\n",
    "        init.normal_(self.layer4.weight, mean=0.0, std=cw)\n",
    "        init.normal_(self.layer5.weight, mean=0.0, std=cw)\n",
    "        init.normal_(self.finallayer.weight, mean=0.0, std=cw)\n",
    "        \n",
    "        # Initialize biases from a Gaussian distribution\n",
    "        init.normal_(self.firstlayer.bias, mean=0.0, std=cb)\n",
    "        init.normal_(self.layer1.bias, mean=0.0, std=cb)\n",
    "        init.normal_(self.layer2.bias, mean=0.0, std=cb)\n",
    "        init.normal_(self.layer3.bias, mean=0.0, std=cb)\n",
    "        init.normal_(self.layer4.bias, mean=0.0, std=cb)\n",
    "        init.normal_(self.layer5.bias, mean=0.0, std=cb)\n",
    "        init.normal_(self.finallayer.bias, mean=0.0, std=cb)\n",
    "        \n",
    "    def forward(self, x):\n",
    "        x = self.firstlayer(x)\n",
    "        x = self.layer1(x)\n",
    "        x = self.layer2(x)\n",
    "        x = self.layer3(x)\n",
    "        z3 = x\n",
    "        x = self.layer4(x)\n",
    "        z4 = x\n",
    "        x = self.layer5(x)\n",
    "        x = self.finallayer(x)\n",
    "        return x, z3, z4"
   ]
  },
  {
   "cell_type": "code",
   "execution_count": 138,
   "id": "7bf9fb49-3ccd-435a-981c-01dc865fc357",
   "metadata": {},
   "outputs": [],
   "source": [
    "x = torch.randn(n_inputs,200)"
   ]
  },
  {
   "cell_type": "code",
   "execution_count": 139,
   "id": "9dc8e48f-cef5-499c-86c1-ef49930616db",
   "metadata": {},
   "outputs": [],
   "source": [
    "# g3 = torch.tensor([[sum(z3[i,j]*z3[k,j] for j in range(20)) for i in range(10)] for k in range(10)])/nL \n",
    "# this was just used as a double check to check that the definition of g3 below is ok"
   ]
  },
  {
   "cell_type": "code",
   "execution_count": 182,
   "id": "8b590d51-eb5e-4569-856b-3f5a1938437e",
   "metadata": {},
   "outputs": [
    {
     "data": {
      "text/plain": [
       "3.9652872"
      ]
     },
     "execution_count": 182,
     "metadata": {},
     "output_type": "execute_result"
    }
   ],
   "source": [
    "ratios = []\n",
    "for _ in range(n_samples):\n",
    "    model = Linear_NN()\n",
    "    out = model(x)\n",
    "    z3 = out[1].detach()\n",
    "    z4 = out[2].detach()\n",
    "    g3 = torch.mean(torch.diagonal(torch.outer(z3.ravel(),z3.ravel()).view(n_inputs,nL,n_inputs,nL),dim1 = 1, dim2 = 3),2)\n",
    "    g4 = torch.mean(torch.diagonal(torch.outer(z4.ravel(),z4.ravel()).view(n_inputs,nL,n_inputs,nL),dim1 = 1, dim2 = 3),2)\n",
    "    #g31 = torch.tensor([[sum(z3[i,j]*z3[k,j] for j in range(nL)) for i in range(n_inputs)] for k in range(n_inputs)])/nL \n",
    "    #g41 = torch.tensor([[sum(z4[i,j]*z4[k,j] for j in range(nL)) for i in range(n_inputs)] for k in range(n_inputs)])/nL \n",
    "    ratios.append(torch.mean((g4/g3).ravel()).detach())\n",
    "np.mean(ratios)"
   ]
  },
  {
   "cell_type": "code",
   "execution_count": 187,
   "id": "215b03c9-3c96-4d4b-ba4b-b1b6c31b670a",
   "metadata": {},
   "outputs": [
    {
     "data": {
      "image/png": "[encoded data removed]",
      "text/plain": [
       "<Figure size 432x288 with 1 Axes>"
      ]
     },
     "metadata": {
      "needs_background": "light"
     },
     "output_type": "display_data"
    }
   ],
   "source": [
    "hist = plt.hist(np.array(ratios), bins = np.arange(-100,100,1),align='mid' ,density=True)"
   ]
  },
  {
   "cell_type": "code",
   "execution_count": 128,
   "id": "be599434-4f5e-44b6-a73f-1dc601ba06e8",
   "metadata": {},
   "outputs": [],
   "source": [
    "n = 100\n",
    "ntens = torch.tensor(n)\n",
    "sqrtn = torch.sqrt(ntens)"
   ]
  },
  {
   "cell_type": "code",
   "execution_count": 129,
   "id": "0ac2a89b-a54b-4258-b4be-2f6479833267",
   "metadata": {},
   "outputs": [
    {
     "data": {
      "text/plain": [
       "tensor(10.)"
      ]
     },
     "execution_count": 129,
     "metadata": {},
     "output_type": "execute_result"
    }
   ],
   "source": [
    "sqrtn"
   ]
  },
  {
   "cell_type": "code",
   "execution_count": 169,
   "id": "6f9e7c64-91a9-4b9a-b26f-a9f5abaa0904",
   "metadata": {},
   "outputs": [
    {
     "ename": "ValueError",
     "evalue": "setting an array element with a sequence. The requested array has an inhomogeneous shape after 1 dimensions. The detected shape was (2,) + inhomogeneous part.",
     "output_type": "error",
     "traceback": [
      "\u001b[0;31m---------------------------------------------------------------------------\u001b[0m",
      "\u001b[0;31mValueError\u001b[0m                                Traceback (most recent call last)",
      "\u001b[0;32m<ipython-input-169-612fa0f8199c>\u001b[0m in \u001b[0;36m<module>\u001b[0;34m\u001b[0m\n\u001b[0;32m----> 1\u001b[0;31m \u001b[0mnp\u001b[0m\u001b[0;34m.\u001b[0m\u001b[0marray\u001b[0m\u001b[0;34m(\u001b[0m\u001b[0mlist\u001b[0m\u001b[0;34m(\u001b[0m\u001b[0;34m[\u001b[0m\u001b[0mhist\u001b[0m\u001b[0;34m[\u001b[0m\u001b[0;36m0\u001b[0m\u001b[0;34m]\u001b[0m\u001b[0;34m,\u001b[0m\u001b[0mhist\u001b[0m\u001b[0;34m[\u001b[0m\u001b[0;36m1\u001b[0m\u001b[0;34m]\u001b[0m\u001b[0;34m]\u001b[0m\u001b[0;34m)\u001b[0m\u001b[0;34m)\u001b[0m\u001b[0;34m\u001b[0m\u001b[0;34m\u001b[0m\u001b[0m\n\u001b[0m",
      "\u001b[0;31mValueError\u001b[0m: setting an array element with a sequence. The requested array has an inhomogeneous shape after 1 dimensions. The detected shape was (2,) + inhomogeneous part."
     ]
    }
   ],
   "source": [
    "np.array(list([hist[0],hist[1]])"
   ]
  },
  {
   "cell_type": "code",
   "execution_count": 189,
   "id": "5f8fe97f-3cbe-4b70-b12c-ebb5aa4a265b",
   "metadata": {},
   "outputs": [
    {
     "data": {
      "text/plain": [
       "(200,)"
      ]
     },
     "execution_count": 189,
     "metadata": {},
     "output_type": "execute_result"
    }
   ],
   "source": [
    "np.shape(hist[1])"
   ]
  },
  {
   "cell_type": "code",
   "execution_count": null,
   "id": "0e49e407-96bd-494b-882f-943681ff838b",
   "metadata": {},
   "outputs": [],
   "source": []
  }
 ],
 "metadata": {
  "kernelspec": {
   "display_name": "Python 3",
   "language": "python",
   "name": "python3"
  },
  "language_info": {
   "codemirror_mode": {
    "name": "ipython",
    "version": 3
   },
   "file_extension": ".py",
   "mimetype": "text/x-python",
   "name": "python",
   "nbconvert_exporter": "python",
   "pygments_lexer": "ipython3",
   "version": "3.9.5"
  }
 },
 "nbformat": 4,
 "nbformat_minor": 5
}
