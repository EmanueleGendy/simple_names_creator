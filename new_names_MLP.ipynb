{
 "cells": [
  {
   "cell_type": "code",
   "execution_count": 2,
   "id": "78307286-9a46-424a-8e60-da770f5cda8f",
   "metadata": {},
   "outputs": [],
   "source": [
    "import torch\n",
    "import torch.nn.functional as F\n",
    "import matplotlib.pyplot as plt  # for making figures\n",
    "%matplotlib inline\n",
    "import random"
   ]
  },
  {
   "cell_type": "code",
   "execution_count": 2,
   "id": "ca04eab2-c1da-4eb8-80d8-857c8bc037b5",
   "metadata": {},
   "outputs": [],
   "source": [
    "# Load the list of words from a text file\n",
    "words = open('names.txt', 'r').read().splitlines()\n",
    "block_size = 3  # Context length# Build the vocabulary of characters and mappings to/from integers\n",
    "chars = sorted(list(set(''.join(words))))\n",
    "stoi = {s: i + 1 for i, s in enumerate(chars)}\n",
    "stoi['.'] = 0  # Map the '.' character to 0\n",
    "itos = {i: s for s, i in stoi.items()}"
   ]
  },
  {
   "cell_type": "code",
   "execution_count": 2,
   "id": "02440345-99e2-4789-a1e0-f97edb7b4cc6",
   "metadata": {},
   "outputs": [],
   "source": [
    "# Function to build the dataset\n",
    "def build_dataset(words):\n",
    "    \n",
    "    X, Y = [], []\n",
    "\n",
    "    for w in words:\n",
    "        context = [0] * block_size  # Initialize the context with zeros\n",
    "        for ch in w + '.':  # Iterate over the word and an end token\n",
    "            ix = stoi[ch]  # Get the integer mapping of the character\n",
    "            X.append(context)  # Append the current context to X\n",
    "            Y.append(ix)  # Append the current character's index to Y\n",
    "            # Update the context\n",
    "            context = context[1:] + [ix]\n",
    "\n",
    "    X = torch.tensor(X)\n",
    "    Y = torch.tensor(Y)\n",
    "    print(X.shape, Y.shape)\n",
    "    return X, Y\n",
    "\n",
    "# Shuffle and split the dataset\n",
    "random.seed(42)\n",
    "random.shuffle(words)\n",
    "n1 = int(0.8 * len(words))\n",
    "n2 = int(0.9 * len(words))\n",
    "\n",
    "Xtr, Ytr = build_dataset(words[:n1])  # Training set\n",
    "Xdev, Ydev = build_dataset(words[n1:n2])  # Development set\n",
    "Xte, Yte = build_dataset(words[n2:])  # Test set"
   ]
  },
  {
   "cell_type": "code",
   "execution_count": 2,
   "id": "ce6d3e91-6d96-4c13-9fa4-7067b6303ba0",
   "metadata": {},
   "outputs": [
    {
     "name": "stdout",
     "output_type": "stream",
     "text": [
      "torch.Size([182625, 3]) torch.Size([182625])\n",
      "torch.Size([22655, 3]) torch.Size([22655])\n",
      "torch.Size([22866, 3]) torch.Size([22866])\n"
     ]
    },
    {
     "data": {
      "text/plain": [
       "[<matplotlib.lines.Line2D at 0x7f89794acf70>]"
      ]
     },
     "execution_count": 2,
     "metadata": {},
     "output_type": "execute_result"
    },
    {
     "data": {
      "image/png": "[encoded data removed]",
      "text/plain": [
       "<Figure size 432x288 with 1 Axes>"
      ]
     },
     "metadata": {
      "needs_background": "light"
     },
     "output_type": "display_data"
    }
   ],
   "source": [
    "# Initialize the model parameters\n",
    "g = torch.Generator().manual_seed(2147483647)\n",
    "C = torch.randn((27, 10), generator=g)  # Character embedding\n",
    "W1 = torch.randn((30, 200), generator=g)  # Hidden layer weights\n",
    "b1 = torch.randn(200, generator=g)  # Hidden layer bias\n",
    "W2 = torch.randn((200, 27), generator=g)  # Output layer weights\n",
    "b2 = torch.randn(27, generator=g)  # Output layer bias\n",
    "parameters = [C, W1, b1, W2, b2]\n",
    "\n",
    "# Make parameters require gradients\n",
    "for p in parameters:\n",
    "    p.requires_grad = True\n",
    "\n",
    "# Training loop\n",
    "lre = torch.linspace(-3, 0, 1000)  # Learning rate candidates\n",
    "lrs = 10 ** lre\n",
    "lri, lossi, stepi = [], [], []  # Lists to store learning rates, losses, and steps\n",
    "\n",
    "for i in range(50000):\n",
    "    # Build a minibatch\n",
    "    ix = torch.randint(0, Xtr.shape[0], (32,))\n",
    "    emb = C[Xtr[ix]]  # Get character embeddings for the minibatch\n",
    "\n",
    "    # Forward pass\n",
    "    h = torch.tanh(emb.view(emb.shape[0], 30) @ W1 + b1)\n",
    "    logits = h @ W2 + b2\n",
    "    loss = F.cross_entropy(logits, Ytr[ix])\n",
    "\n",
    "    # Backward pass\n",
    "    for p in parameters:\n",
    "        p.grad = None\n",
    "    loss.backward()\n",
    "\n",
    "    # Update parameters\n",
    "    lr = 0.01  # Learning rate\n",
    "    for p in parameters:\n",
    "        p.data += -lr * p.grad\n",
    "\n",
    "    # Track stats\n",
    "    stepi.append(i)\n",
    "    lossi.append(loss.log10().item())\n",
    "\n",
    "# Plot the training loss\n",
    "plt.plot(stepi, lossi)"
   ]
  },
  {
   "cell_type": "code",
   "execution_count": 4,
   "id": "c48aed5f-9972-4671-aaed-1663a055078e",
   "metadata": {},
   "outputs": [
    {
     "name": "stdout",
     "output_type": "stream",
     "text": [
      "Development set loss: 2.4220454692840576\n"
     ]
    }
   ],
   "source": [
    "# Evaluate the model on the development set\n",
    "emb = C[Xdev]\n",
    "h = torch.tanh(emb.view(emb.shape[0], 30) @ W1 + b1)\n",
    "logits = h @ W2 + b2\n",
    "loss = F.cross_entropy(logits, Ydev)\n",
    "print(f\"Development set loss: {loss.item()}\")"
   ]
  },
  {
   "cell_type": "code",
   "execution_count": 6,
   "id": "b1930b90-9d67-4df6-9748-26cec9da142e",
   "metadata": {},
   "outputs": [
    {
     "name": "stdout",
     "output_type": "stream",
     "text": [
      "mruuahmanylieel.\n",
      "ndheyah.\n",
      "remursiend.\n",
      "lek.\n",
      "adeepdieliizeli.\n"
     ]
    }
   ],
   "source": [
    "# Sample from the model\n",
    "g = torch.Generator().manual_seed(2147483647 + 10)\n",
    "for _ in range():\n",
    "    out = []\n",
    "    context = [0] * block_size\n",
    "\n",
    "    while True:\n",
    "        emb = C[torch.tensor([context])]\n",
    "        h = torch.tanh(emb.view(1, -1) @ W1 + b1)\n",
    "        logits = h @ W2 + b2\n",
    "        probs = F.softmax(logits, dim=1)\n",
    "        ix = torch.multinomial(probs, num_samples=1, generator=g).item()\n",
    "        context = context[1:] + [ix]\n",
    "        out.append(ix)\n",
    "\n",
    "        if ix == 0:  # If the end token is encountered, break the loop\n",
    "            break\n",
    "\n",
    "    print(''.join(itos[i] for i in out))"
   ]
  },
  {
   "cell_type": "code",
   "execution_count": null,
   "id": "d9a16660-db87-4420-9f12-f29b2c6262ed",
   "metadata": {},
   "outputs": [],
   "source": []
  }
 ],
 "metadata": {
  "kernelspec": {
   "display_name": "Python 3",
   "language": "python",
   "name": "python3"
  },
  "language_info": {
   "codemirror_mode": {
    "name": "ipython",
    "version": 3
   },
   "file_extension": ".py",
   "mimetype": "text/x-python",
   "name": "python",
   "nbconvert_exporter": "python",
   "pygments_lexer": "ipython3",
   "version": "3.9.5"
  }
 },
 "nbformat": 4,
 "nbformat_minor": 5
}
