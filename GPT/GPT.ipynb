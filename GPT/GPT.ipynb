{
 "cells": [
  {
   "cell_type": "code",
   "execution_count": 35,
   "id": "f0fc59bd-397f-4ce6-9422-d82a4e1a2d74",
   "metadata": {},
   "outputs": [
    {
     "data": {
      "text/plain": [
       "<torch._C.Generator at 0x7fd260f76170>"
      ]
     },
     "execution_count": 35,
     "metadata": {},
     "output_type": "execute_result"
    }
   ],
   "source": [
    "import torch\n",
    "import torch.nn as nn\n",
    "from torch.nn import functional as F\n",
    "\n",
    "torch.manual_seed(1337)\n"
   ]
  },
  {
   "cell_type": "markdown",
   "id": "53dc878c-f21d-4b73-99e7-1b3222e9f139",
   "metadata": {},
   "source": [
    "Read the data"
   ]
  },
  {
   "cell_type": "code",
   "execution_count": 37,
   "id": "76a6cb08-72a2-42c8-928e-22cb7bc82e5a",
   "metadata": {},
   "outputs": [],
   "source": [
    "#hyperparameters \n",
    "batch_size = 32\n",
    "block_size = 8 # we pick a block length we will use to train, i.e. we use as inputs the 8 previous characters \n",
    "max_iters = 5000\n",
    "eval_interval = 300\n",
    "learning_rate = 1e-3\n",
    "device = 'cuda' if torch.cuda.is_available() else 'cpu'\n",
    "n_embd = 32 "
   ]
  },
  {
   "cell_type": "code",
   "execution_count": 38,
   "id": "530e1c37-1a07-449e-8ebb-f466ac93364d",
   "metadata": {
    "tags": []
   },
   "outputs": [
    {
     "name": "stdout",
     "output_type": "stream",
     "text": [
      "\n",
      " !$&',-.3:;?ABCDEFGHIJKLMNOPQRSTUVWXYZabcdefghijklmnopqrstuvwxyz\n",
      "65\n"
     ]
    }
   ],
   "source": [
    "with open('input.txt', 'r', encoding='utf-8') as f:\n",
    "    text = f.read()\n",
    "    \n",
    "chars = sorted(list(set(text))) #takes a set of the whole file, so we have all the single character used, sorted \n",
    "vocab_size = len(chars)\n",
    "print(''.join(chars))\n",
    "print(vocab_size) #print the size of the vocabulary"
   ]
  },
  {
   "cell_type": "code",
   "execution_count": 39,
   "id": "c05c99fd-f7e3-47bc-b77e-b7c3ed0c3209",
   "metadata": {},
   "outputs": [],
   "source": [
    "stoi = {ch:i for i,ch in enumerate(chars)}  #dictionary used to convert a character to a number\n",
    "itos = {i:ch for i,ch in enumerate(chars)}  #dictionary used to convert a number to a character\n",
    "encode = lambda s: [stoi[c] for c in s]    #function converting a string to a string of numbers\n",
    "decode = lambda n: ''.join([itos[i] for i in n]) #function converting a string of numbers to a string \n",
    "\n",
    "data = torch.tensor(encode(text), dtype=torch.long)  #returns the encoded text"
   ]
  },
  {
   "cell_type": "markdown",
   "id": "18795790-6f13-4f34-b0a4-05fae7e4f166",
   "metadata": {},
   "source": [
    "Split the data into tranining and validation sets"
   ]
  },
  {
   "cell_type": "code",
   "execution_count": 40,
   "id": "0d953001-c053-4d0b-b341-9a70bf11694d",
   "metadata": {},
   "outputs": [],
   "source": [
    "n = int(0.9*len(data))\n",
    "train_data = data[:n]\n",
    "val_data = data[n:]"
   ]
  },
  {
   "cell_type": "code",
   "execution_count": 41,
   "id": "d16c7431-bae1-420c-b392-1c5bbb8b408f",
   "metadata": {},
   "outputs": [],
   "source": [
    "def get_batch(split):\n",
    "    data = train_data if split == 'train' else val_data\n",
    "    ix = torch.randint(len(data)- block_size, (batch_size,))\n",
    "    x = torch.stack([data[i:i+block_size] for i in ix])\n",
    "    y = torch.stack([data[i+1:i+block_size+1] for i in ix])\n",
    "    x , y = x.to(device), y.to(device)\n",
    "    return x,y #returns the input and predicted output for either the train or the test data, only a batch of it thought, whose size is\n",
    "#specified in batch_size\n",
    "\n",
    "xb,yb = get_batch('train')"
   ]
  },
  {
   "cell_type": "code",
   "execution_count": 42,
   "id": "8d5d4b32-2f8f-4288-8836-caeb5ab0a472",
   "metadata": {},
   "outputs": [
    {
     "name": "stdout",
     "output_type": "stream",
     "text": [
      "inputs:\n",
      " tensor([[24, 43, 58,  5, 57,  1, 46, 43],\n",
      "        [44, 53, 56,  1, 58, 46, 39, 58],\n",
      "        [52, 58,  1, 58, 46, 39, 58,  1],\n",
      "        [25, 17, 27, 10,  0, 21,  1, 54],\n",
      "        [57, 43, 60, 43, 52,  1, 63, 43],\n",
      "        [60, 43, 42,  8,  0, 25, 63,  1],\n",
      "        [56, 42,  5, 57,  1, 57, 39, 49],\n",
      "        [43, 57, 58, 63,  6,  1, 58, 46],\n",
      "        [43,  1, 51, 39, 63,  1, 40, 43],\n",
      "        [58, 46, 43,  1, 43, 39, 56, 57],\n",
      "        [39, 58, 47, 53, 52, 12,  1, 37],\n",
      "        [53, 56, 43,  1, 21,  1, 41, 39],\n",
      "        [50, 39, 52, 63,  1, 47, 58, 57],\n",
      "        [56, 53, 63,  1, 42, 47, 42,  1],\n",
      "        [39, 51,  1, 39, 44, 56, 39, 47],\n",
      "        [17, 24, 21, 38, 13, 14, 17, 32],\n",
      "        [ 1, 39, 52, 42,  1, 45, 43, 50],\n",
      "        [ 1, 58, 46, 39, 58,  1, 42, 53],\n",
      "        [ 1, 61, 53, 59, 50, 42,  1, 21],\n",
      "        [59, 57, 40, 39, 52, 42,  1, 40],\n",
      "        [52, 42,  8,  0,  0, 23, 21, 26],\n",
      "        [45, 53, 42, 57,  0, 23, 43, 43],\n",
      "        [52,  1, 61, 39, 57,  1, 51, 53],\n",
      "        [39, 49, 12,  1, 27,  1, 58, 56],\n",
      "        [53, 44,  1, 57, 54, 43, 43, 41],\n",
      "        [57, 53, 52, 57,  8,  0,  0, 25],\n",
      "        [ 1, 42, 43, 44, 43, 41, 58,  1],\n",
      "        [21,  1, 61, 39, 52, 42, 43, 56],\n",
      "        [43, 43, 51,  5, 42,  1, 40, 59],\n",
      "        [45, 50, 63,  1, 52, 53, 61, 12],\n",
      "        [52, 53, 58,  8,  0, 25, 63,  1],\n",
      "        [53, 58,  6,  1, 51, 63,  1, 50]]) torch.Size([32, 8])\n",
      "targets:\n",
      " tensor([[43, 58,  5, 57,  1, 46, 43, 39],\n",
      "        [53, 56,  1, 58, 46, 39, 58,  1],\n",
      "        [58,  1, 58, 46, 39, 58,  1, 46],\n",
      "        [17, 27, 10,  0, 21,  1, 54, 39],\n",
      "        [43, 60, 43, 52,  1, 63, 43, 39],\n",
      "        [43, 42,  8,  0, 25, 63,  1, 45],\n",
      "        [42,  5, 57,  1, 57, 39, 49, 43],\n",
      "        [57, 58, 63,  6,  1, 58, 46, 47],\n",
      "        [ 1, 51, 39, 63,  1, 40, 43,  1],\n",
      "        [46, 43,  1, 43, 39, 56, 57, 10],\n",
      "        [58, 47, 53, 52, 12,  1, 37, 53],\n",
      "        [56, 43,  1, 21,  1, 41, 39, 51],\n",
      "        [39, 52, 63,  1, 47, 58, 57, 43],\n",
      "        [53, 63,  1, 42, 47, 42,  1, 57],\n",
      "        [51,  1, 39, 44, 56, 39, 47, 42],\n",
      "        [24, 21, 38, 13, 14, 17, 32, 20],\n",
      "        [39, 52, 42,  1, 45, 43, 50, 42],\n",
      "        [58, 46, 39, 58,  1, 42, 53,  1],\n",
      "        [61, 53, 59, 50, 42,  1, 21,  1],\n",
      "        [57, 40, 39, 52, 42,  1, 40, 47],\n",
      "        [42,  8,  0,  0, 23, 21, 26, 19],\n",
      "        [53, 42, 57,  0, 23, 43, 43, 54],\n",
      "        [ 1, 61, 39, 57,  1, 51, 53, 56],\n",
      "        [49, 12,  1, 27,  1, 58, 56, 39],\n",
      "        [44,  1, 57, 54, 43, 43, 41, 46],\n",
      "        [53, 52, 57,  8,  0,  0, 25, 17],\n",
      "        [42, 43, 44, 43, 41, 58,  1, 53],\n",
      "        [ 1, 61, 39, 52, 42, 43, 56,  6],\n",
      "        [43, 51,  5, 42,  1, 40, 59, 56],\n",
      "        [50, 63,  1, 52, 53, 61, 12,  0],\n",
      "        [53, 58,  8,  0, 25, 63,  1, 61],\n",
      "        [58,  6,  1, 51, 63,  1, 50, 53]]) torch.Size([32, 8])\n"
     ]
    }
   ],
   "source": [
    "print('inputs:\\n',xb,xb.shape)\n",
    "print('targets:\\n',yb,yb.shape)  #print them to see what they look like"
   ]
  },
  {
   "cell_type": "code",
   "execution_count": 43,
   "id": "2fbbfef5-3fb5-4fb2-b6a2-78eab74c7bcf",
   "metadata": {},
   "outputs": [],
   "source": [
    "#here I just show that for each block we can get actually \"block_size\" input-prediction pairs, from inputs of size 1 to size \"block_size\""
   ]
  },
  {
   "cell_type": "code",
   "execution_count": 44,
   "id": "9c9f96a8-5dbc-4020-820e-f9894044755d",
   "metadata": {},
   "outputs": [
    {
     "name": "stdout",
     "output_type": "stream",
     "text": [
      "when context is [24] the target is: 43\n",
      "when context is [24, 43] the target is: 58\n",
      "when context is [24, 43, 58] the target is: 5\n",
      "when context is [24, 43, 58, 5] the target is: 57\n",
      "when context is [24, 43, 58, 5, 57] the target is: 1\n",
      "when context is [24, 43, 58, 5, 57, 1] the target is: 46\n",
      "when context is [24, 43, 58, 5, 57, 1, 46] the target is: 43\n",
      "when context is [24, 43, 58, 5, 57, 1, 46, 43] the target is: 39\n",
      "when context is [44] the target is: 53\n",
      "when context is [44, 53] the target is: 56\n",
      "when context is [44, 53, 56] the target is: 1\n",
      "when context is [44, 53, 56, 1] the target is: 58\n",
      "when context is [44, 53, 56, 1, 58] the target is: 46\n",
      "when context is [44, 53, 56, 1, 58, 46] the target is: 39\n",
      "when context is [44, 53, 56, 1, 58, 46, 39] the target is: 58\n",
      "when context is [44, 53, 56, 1, 58, 46, 39, 58] the target is: 1\n",
      "when context is [52] the target is: 58\n",
      "when context is [52, 58] the target is: 1\n",
      "when context is [52, 58, 1] the target is: 58\n",
      "when context is [52, 58, 1, 58] the target is: 46\n",
      "when context is [52, 58, 1, 58, 46] the target is: 39\n",
      "when context is [52, 58, 1, 58, 46, 39] the target is: 58\n",
      "when context is [52, 58, 1, 58, 46, 39, 58] the target is: 1\n",
      "when context is [52, 58, 1, 58, 46, 39, 58, 1] the target is: 46\n",
      "when context is [25] the target is: 17\n",
      "when context is [25, 17] the target is: 27\n",
      "when context is [25, 17, 27] the target is: 10\n",
      "when context is [25, 17, 27, 10] the target is: 0\n",
      "when context is [25, 17, 27, 10, 0] the target is: 21\n",
      "when context is [25, 17, 27, 10, 0, 21] the target is: 1\n",
      "when context is [25, 17, 27, 10, 0, 21, 1] the target is: 54\n",
      "when context is [25, 17, 27, 10, 0, 21, 1, 54] the target is: 39\n",
      "when context is [57] the target is: 43\n",
      "when context is [57, 43] the target is: 60\n",
      "when context is [57, 43, 60] the target is: 43\n",
      "when context is [57, 43, 60, 43] the target is: 52\n",
      "when context is [57, 43, 60, 43, 52] the target is: 1\n",
      "when context is [57, 43, 60, 43, 52, 1] the target is: 63\n",
      "when context is [57, 43, 60, 43, 52, 1, 63] the target is: 43\n",
      "when context is [57, 43, 60, 43, 52, 1, 63, 43] the target is: 39\n",
      "when context is [60] the target is: 43\n",
      "when context is [60, 43] the target is: 42\n",
      "when context is [60, 43, 42] the target is: 8\n",
      "when context is [60, 43, 42, 8] the target is: 0\n",
      "when context is [60, 43, 42, 8, 0] the target is: 25\n",
      "when context is [60, 43, 42, 8, 0, 25] the target is: 63\n",
      "when context is [60, 43, 42, 8, 0, 25, 63] the target is: 1\n",
      "when context is [60, 43, 42, 8, 0, 25, 63, 1] the target is: 45\n",
      "when context is [56] the target is: 42\n",
      "when context is [56, 42] the target is: 5\n",
      "when context is [56, 42, 5] the target is: 57\n",
      "when context is [56, 42, 5, 57] the target is: 1\n",
      "when context is [56, 42, 5, 57, 1] the target is: 57\n",
      "when context is [56, 42, 5, 57, 1, 57] the target is: 39\n",
      "when context is [56, 42, 5, 57, 1, 57, 39] the target is: 49\n",
      "when context is [56, 42, 5, 57, 1, 57, 39, 49] the target is: 43\n",
      "when context is [43] the target is: 57\n",
      "when context is [43, 57] the target is: 58\n",
      "when context is [43, 57, 58] the target is: 63\n",
      "when context is [43, 57, 58, 63] the target is: 6\n",
      "when context is [43, 57, 58, 63, 6] the target is: 1\n",
      "when context is [43, 57, 58, 63, 6, 1] the target is: 58\n",
      "when context is [43, 57, 58, 63, 6, 1, 58] the target is: 46\n",
      "when context is [43, 57, 58, 63, 6, 1, 58, 46] the target is: 47\n",
      "when context is [43] the target is: 1\n",
      "when context is [43, 1] the target is: 51\n",
      "when context is [43, 1, 51] the target is: 39\n",
      "when context is [43, 1, 51, 39] the target is: 63\n",
      "when context is [43, 1, 51, 39, 63] the target is: 1\n",
      "when context is [43, 1, 51, 39, 63, 1] the target is: 40\n",
      "when context is [43, 1, 51, 39, 63, 1, 40] the target is: 43\n",
      "when context is [43, 1, 51, 39, 63, 1, 40, 43] the target is: 1\n",
      "when context is [58] the target is: 46\n",
      "when context is [58, 46] the target is: 43\n",
      "when context is [58, 46, 43] the target is: 1\n",
      "when context is [58, 46, 43, 1] the target is: 43\n",
      "when context is [58, 46, 43, 1, 43] the target is: 39\n",
      "when context is [58, 46, 43, 1, 43, 39] the target is: 56\n",
      "when context is [58, 46, 43, 1, 43, 39, 56] the target is: 57\n",
      "when context is [58, 46, 43, 1, 43, 39, 56, 57] the target is: 10\n",
      "when context is [39] the target is: 58\n",
      "when context is [39, 58] the target is: 47\n",
      "when context is [39, 58, 47] the target is: 53\n",
      "when context is [39, 58, 47, 53] the target is: 52\n",
      "when context is [39, 58, 47, 53, 52] the target is: 12\n",
      "when context is [39, 58, 47, 53, 52, 12] the target is: 1\n",
      "when context is [39, 58, 47, 53, 52, 12, 1] the target is: 37\n",
      "when context is [39, 58, 47, 53, 52, 12, 1, 37] the target is: 53\n",
      "when context is [53] the target is: 56\n",
      "when context is [53, 56] the target is: 43\n",
      "when context is [53, 56, 43] the target is: 1\n",
      "when context is [53, 56, 43, 1] the target is: 21\n",
      "when context is [53, 56, 43, 1, 21] the target is: 1\n",
      "when context is [53, 56, 43, 1, 21, 1] the target is: 41\n",
      "when context is [53, 56, 43, 1, 21, 1, 41] the target is: 39\n",
      "when context is [53, 56, 43, 1, 21, 1, 41, 39] the target is: 51\n",
      "when context is [50] the target is: 39\n",
      "when context is [50, 39] the target is: 52\n",
      "when context is [50, 39, 52] the target is: 63\n",
      "when context is [50, 39, 52, 63] the target is: 1\n",
      "when context is [50, 39, 52, 63, 1] the target is: 47\n",
      "when context is [50, 39, 52, 63, 1, 47] the target is: 58\n",
      "when context is [50, 39, 52, 63, 1, 47, 58] the target is: 57\n",
      "when context is [50, 39, 52, 63, 1, 47, 58, 57] the target is: 43\n",
      "when context is [56] the target is: 53\n",
      "when context is [56, 53] the target is: 63\n",
      "when context is [56, 53, 63] the target is: 1\n",
      "when context is [56, 53, 63, 1] the target is: 42\n",
      "when context is [56, 53, 63, 1, 42] the target is: 47\n",
      "when context is [56, 53, 63, 1, 42, 47] the target is: 42\n",
      "when context is [56, 53, 63, 1, 42, 47, 42] the target is: 1\n",
      "when context is [56, 53, 63, 1, 42, 47, 42, 1] the target is: 57\n",
      "when context is [39] the target is: 51\n",
      "when context is [39, 51] the target is: 1\n",
      "when context is [39, 51, 1] the target is: 39\n",
      "when context is [39, 51, 1, 39] the target is: 44\n",
      "when context is [39, 51, 1, 39, 44] the target is: 56\n",
      "when context is [39, 51, 1, 39, 44, 56] the target is: 39\n",
      "when context is [39, 51, 1, 39, 44, 56, 39] the target is: 47\n",
      "when context is [39, 51, 1, 39, 44, 56, 39, 47] the target is: 42\n",
      "when context is [17] the target is: 24\n",
      "when context is [17, 24] the target is: 21\n",
      "when context is [17, 24, 21] the target is: 38\n",
      "when context is [17, 24, 21, 38] the target is: 13\n",
      "when context is [17, 24, 21, 38, 13] the target is: 14\n",
      "when context is [17, 24, 21, 38, 13, 14] the target is: 17\n",
      "when context is [17, 24, 21, 38, 13, 14, 17] the target is: 32\n",
      "when context is [17, 24, 21, 38, 13, 14, 17, 32] the target is: 20\n",
      "when context is [1] the target is: 39\n",
      "when context is [1, 39] the target is: 52\n",
      "when context is [1, 39, 52] the target is: 42\n",
      "when context is [1, 39, 52, 42] the target is: 1\n",
      "when context is [1, 39, 52, 42, 1] the target is: 45\n",
      "when context is [1, 39, 52, 42, 1, 45] the target is: 43\n",
      "when context is [1, 39, 52, 42, 1, 45, 43] the target is: 50\n",
      "when context is [1, 39, 52, 42, 1, 45, 43, 50] the target is: 42\n",
      "when context is [1] the target is: 58\n",
      "when context is [1, 58] the target is: 46\n",
      "when context is [1, 58, 46] the target is: 39\n",
      "when context is [1, 58, 46, 39] the target is: 58\n",
      "when context is [1, 58, 46, 39, 58] the target is: 1\n",
      "when context is [1, 58, 46, 39, 58, 1] the target is: 42\n",
      "when context is [1, 58, 46, 39, 58, 1, 42] the target is: 53\n",
      "when context is [1, 58, 46, 39, 58, 1, 42, 53] the target is: 1\n",
      "when context is [1] the target is: 61\n",
      "when context is [1, 61] the target is: 53\n",
      "when context is [1, 61, 53] the target is: 59\n",
      "when context is [1, 61, 53, 59] the target is: 50\n",
      "when context is [1, 61, 53, 59, 50] the target is: 42\n",
      "when context is [1, 61, 53, 59, 50, 42] the target is: 1\n",
      "when context is [1, 61, 53, 59, 50, 42, 1] the target is: 21\n",
      "when context is [1, 61, 53, 59, 50, 42, 1, 21] the target is: 1\n",
      "when context is [59] the target is: 57\n",
      "when context is [59, 57] the target is: 40\n",
      "when context is [59, 57, 40] the target is: 39\n",
      "when context is [59, 57, 40, 39] the target is: 52\n",
      "when context is [59, 57, 40, 39, 52] the target is: 42\n",
      "when context is [59, 57, 40, 39, 52, 42] the target is: 1\n",
      "when context is [59, 57, 40, 39, 52, 42, 1] the target is: 40\n",
      "when context is [59, 57, 40, 39, 52, 42, 1, 40] the target is: 47\n",
      "when context is [52] the target is: 42\n",
      "when context is [52, 42] the target is: 8\n",
      "when context is [52, 42, 8] the target is: 0\n",
      "when context is [52, 42, 8, 0] the target is: 0\n",
      "when context is [52, 42, 8, 0, 0] the target is: 23\n",
      "when context is [52, 42, 8, 0, 0, 23] the target is: 21\n",
      "when context is [52, 42, 8, 0, 0, 23, 21] the target is: 26\n",
      "when context is [52, 42, 8, 0, 0, 23, 21, 26] the target is: 19\n",
      "when context is [45] the target is: 53\n",
      "when context is [45, 53] the target is: 42\n",
      "when context is [45, 53, 42] the target is: 57\n",
      "when context is [45, 53, 42, 57] the target is: 0\n",
      "when context is [45, 53, 42, 57, 0] the target is: 23\n",
      "when context is [45, 53, 42, 57, 0, 23] the target is: 43\n",
      "when context is [45, 53, 42, 57, 0, 23, 43] the target is: 43\n",
      "when context is [45, 53, 42, 57, 0, 23, 43, 43] the target is: 54\n",
      "when context is [52] the target is: 1\n",
      "when context is [52, 1] the target is: 61\n",
      "when context is [52, 1, 61] the target is: 39\n",
      "when context is [52, 1, 61, 39] the target is: 57\n",
      "when context is [52, 1, 61, 39, 57] the target is: 1\n",
      "when context is [52, 1, 61, 39, 57, 1] the target is: 51\n",
      "when context is [52, 1, 61, 39, 57, 1, 51] the target is: 53\n",
      "when context is [52, 1, 61, 39, 57, 1, 51, 53] the target is: 56\n",
      "when context is [39] the target is: 49\n",
      "when context is [39, 49] the target is: 12\n",
      "when context is [39, 49, 12] the target is: 1\n",
      "when context is [39, 49, 12, 1] the target is: 27\n",
      "when context is [39, 49, 12, 1, 27] the target is: 1\n",
      "when context is [39, 49, 12, 1, 27, 1] the target is: 58\n",
      "when context is [39, 49, 12, 1, 27, 1, 58] the target is: 56\n",
      "when context is [39, 49, 12, 1, 27, 1, 58, 56] the target is: 39\n",
      "when context is [53] the target is: 44\n",
      "when context is [53, 44] the target is: 1\n",
      "when context is [53, 44, 1] the target is: 57\n",
      "when context is [53, 44, 1, 57] the target is: 54\n",
      "when context is [53, 44, 1, 57, 54] the target is: 43\n",
      "when context is [53, 44, 1, 57, 54, 43] the target is: 43\n",
      "when context is [53, 44, 1, 57, 54, 43, 43] the target is: 41\n",
      "when context is [53, 44, 1, 57, 54, 43, 43, 41] the target is: 46\n",
      "when context is [57] the target is: 53\n",
      "when context is [57, 53] the target is: 52\n",
      "when context is [57, 53, 52] the target is: 57\n",
      "when context is [57, 53, 52, 57] the target is: 8\n",
      "when context is [57, 53, 52, 57, 8] the target is: 0\n",
      "when context is [57, 53, 52, 57, 8, 0] the target is: 0\n",
      "when context is [57, 53, 52, 57, 8, 0, 0] the target is: 25\n",
      "when context is [57, 53, 52, 57, 8, 0, 0, 25] the target is: 17\n",
      "when context is [1] the target is: 42\n",
      "when context is [1, 42] the target is: 43\n",
      "when context is [1, 42, 43] the target is: 44\n",
      "when context is [1, 42, 43, 44] the target is: 43\n",
      "when context is [1, 42, 43, 44, 43] the target is: 41\n",
      "when context is [1, 42, 43, 44, 43, 41] the target is: 58\n",
      "when context is [1, 42, 43, 44, 43, 41, 58] the target is: 1\n",
      "when context is [1, 42, 43, 44, 43, 41, 58, 1] the target is: 53\n",
      "when context is [21] the target is: 1\n",
      "when context is [21, 1] the target is: 61\n",
      "when context is [21, 1, 61] the target is: 39\n",
      "when context is [21, 1, 61, 39] the target is: 52\n",
      "when context is [21, 1, 61, 39, 52] the target is: 42\n",
      "when context is [21, 1, 61, 39, 52, 42] the target is: 43\n",
      "when context is [21, 1, 61, 39, 52, 42, 43] the target is: 56\n",
      "when context is [21, 1, 61, 39, 52, 42, 43, 56] the target is: 6\n",
      "when context is [43] the target is: 43\n",
      "when context is [43, 43] the target is: 51\n",
      "when context is [43, 43, 51] the target is: 5\n",
      "when context is [43, 43, 51, 5] the target is: 42\n",
      "when context is [43, 43, 51, 5, 42] the target is: 1\n",
      "when context is [43, 43, 51, 5, 42, 1] the target is: 40\n",
      "when context is [43, 43, 51, 5, 42, 1, 40] the target is: 59\n",
      "when context is [43, 43, 51, 5, 42, 1, 40, 59] the target is: 56\n",
      "when context is [45] the target is: 50\n",
      "when context is [45, 50] the target is: 63\n",
      "when context is [45, 50, 63] the target is: 1\n",
      "when context is [45, 50, 63, 1] the target is: 52\n",
      "when context is [45, 50, 63, 1, 52] the target is: 53\n",
      "when context is [45, 50, 63, 1, 52, 53] the target is: 61\n",
      "when context is [45, 50, 63, 1, 52, 53, 61] the target is: 12\n",
      "when context is [45, 50, 63, 1, 52, 53, 61, 12] the target is: 0\n",
      "when context is [52] the target is: 53\n",
      "when context is [52, 53] the target is: 58\n",
      "when context is [52, 53, 58] the target is: 8\n",
      "when context is [52, 53, 58, 8] the target is: 0\n",
      "when context is [52, 53, 58, 8, 0] the target is: 25\n",
      "when context is [52, 53, 58, 8, 0, 25] the target is: 63\n",
      "when context is [52, 53, 58, 8, 0, 25, 63] the target is: 1\n",
      "when context is [52, 53, 58, 8, 0, 25, 63, 1] the target is: 61\n",
      "when context is [53] the target is: 58\n",
      "when context is [53, 58] the target is: 6\n",
      "when context is [53, 58, 6] the target is: 1\n",
      "when context is [53, 58, 6, 1] the target is: 51\n",
      "when context is [53, 58, 6, 1, 51] the target is: 63\n",
      "when context is [53, 58, 6, 1, 51, 63] the target is: 1\n",
      "when context is [53, 58, 6, 1, 51, 63, 1] the target is: 50\n",
      "when context is [53, 58, 6, 1, 51, 63, 1, 50] the target is: 53\n"
     ]
    }
   ],
   "source": [
    "for b in range(batch_size):\n",
    "    for t in range(block_size):\n",
    "        context = xb[b,:t+1]\n",
    "        target = yb[b,t]\n",
    "        print(f'when context is {context.tolist()} the target is: {target}')"
   ]
  },
  {
   "cell_type": "code",
   "execution_count": 74,
   "id": "78b16b88-88b4-4abd-aed6-0694a6585351",
   "metadata": {},
   "outputs": [],
   "source": [
    "class BigramLanguageModel(nn.Module):\n",
    "    def __init__(self):\n",
    "        super().__init__()\n",
    "        self.token_embedding_table = nn.Embedding(vocab_size,n_embd)\n",
    "        self.lm_head = nn.Linear(n_embd,vocab_size)\n",
    "        self.position_embedding_table = nn.Embedding(block_size,n_embd)\n",
    "        self.sa_head = Head(n_embd)\n",
    "        \n",
    "    \n",
    "    def forward(self,idx, targets=None):\n",
    "        B, T = idx.shape\n",
    "        tok_emb = self.token_embedding_table(idx)   #(B, T, C)\n",
    "        pos_emb = self.position_embedding_table(torch.arange(T,device = device))  #(T,C)\n",
    "        x = tok_emb + pos_emb\n",
    "        x = self.sa_head(x)\n",
    "        logits = self.lm_head(x)  #(B, T, vocab_size)\n",
    "        \n",
    "        if targets is None:\n",
    "            loss = None\n",
    "        else:\n",
    "            B, T , C = logits.shape\n",
    "            logits = logits.view(B*T,C)\n",
    "            targets = targets.view(B*T)\n",
    "            loss = F.cross_entropy(logits, targets)\n",
    "        return logits, loss\n",
    "    \n",
    "    def generate(self,idx,max_new_tokens):\n",
    "        for _ in range(max_new_tokens):\n",
    "            idx_cond = idx[:, -block_size :]\n",
    "            logits, loss = self(idx_cond)\n",
    "            logits = logits[:,-1,:]\n",
    "            probs = F.softmax(logits, dim = -1)\n",
    "            idx_next = torch.multinomial(probs,num_samples = 1)\n",
    "            idx = torch.cat((idx,idx_next),dim = 1)\n",
    "        return idx"
   ]
  },
  {
   "cell_type": "code",
   "execution_count": 77,
   "id": "40cb5547-fbaf-496b-8e37-69a5ccd46344",
   "metadata": {},
   "outputs": [],
   "source": [
    "class Head(nn.Module):\n",
    "    #one head of self attention\n",
    "    def __init__(self,head_size):\n",
    "        super().__init__()\n",
    "        self.key = nn.Linear(n_embd, head_size, bias = False)\n",
    "        self.query = nn.Linear(n_embd, head_size, bias = False)\n",
    "        self.value = nn.Linear(n_embd, head_size, bias = False)\n",
    "        self.register_buffer('tril', torch.tril(torch.ones(block_size,block_size)))\n",
    "    \n",
    "    def forward(self,x):\n",
    "        B,T,C = x.shape\n",
    "        k = self.key(x)\n",
    "        q = self.query(x)\n",
    "        wei = q @ k.transpose(-2,-1) * C**-0.5\n",
    "        wei = wei.masked_fill(self.tril[:T,:T] == 0, float('-inf'))\n",
    "        wei = F.softmax(wei,dim = -1)\n",
    "        v = self.value(x)\n",
    "        out = wei @ v\n",
    "        return out"
   ]
  },
  {
   "cell_type": "code",
   "execution_count": 79,
   "id": "601ad5d6-7e48-42bd-854b-1354f477354f",
   "metadata": {},
   "outputs": [
    {
     "name": "stdout",
     "output_type": "stream",
     "text": [
      "torch.Size([256, 65])\n",
      "tensor(4.1987, grad_fn=<NllLossBackward0>)\n"
     ]
    }
   ],
   "source": [
    "m = BigramLanguageModel()\n",
    "m = m.to(device)\n",
    "logits, loss = m(xb,yb)\n",
    "print(logits.shape)\n",
    "print(loss)"
   ]
  },
  {
   "cell_type": "code",
   "execution_count": 80,
   "id": "c76cf912-c4ea-4f25-801d-faccc8abc6ab",
   "metadata": {},
   "outputs": [
    {
     "name": "stdout",
     "output_type": "stream",
     "text": [
      "\n",
      "D-RSMeaGpRQjR3E:?-Mr,;O.lPpm3xgow!zKMzZDyNLp!Zt'-T$ibjYQ-,RxBC:.GXWfJS!YfZ &$t:vTL;gXiBx&PkuE:qKL&wj\n"
     ]
    }
   ],
   "source": [
    "idx = torch.zeros((1,1),dtype = torch.long)\n",
    "print(decode((m.generate(idx,max_new_tokens = 100)[0]).tolist()))"
   ]
  },
  {
   "cell_type": "code",
   "execution_count": 81,
   "id": "c6bed1e9-9842-4673-899c-4f02f02ad690",
   "metadata": {},
   "outputs": [],
   "source": [
    "optimizer = torch.optim.Adam(m.parameters(),lr=1e-3)"
   ]
  },
  {
   "cell_type": "code",
   "execution_count": 87,
   "id": "21e0b467-f752-4edf-8cb6-c15fc65bda9a",
   "metadata": {},
   "outputs": [
    {
     "name": "stdout",
     "output_type": "stream",
     "text": [
      "2.488518238067627\n"
     ]
    }
   ],
   "source": [
    "batch_size = 32\n",
    "\n",
    "for steps in range(500):\n",
    "    xb,yb = get_batch('train')\n",
    "    logits, loss = m(xb,yb)\n",
    "    optimizer.zero_grad(set_to_none=True)\n",
    "    loss.backward()\n",
    "    optimizer.step()\n",
    "    \n",
    "print(loss.item())"
   ]
  },
  {
   "cell_type": "markdown",
   "id": "a4ddb277-46c6-4281-acfb-421d5ad7805e",
   "metadata": {},
   "source": [
    "Self attention starts here"
   ]
  },
  {
   "cell_type": "code",
   "execution_count": 40,
   "id": "a792d2e2-1dc6-4106-92a7-e2a23eff62c1",
   "metadata": {},
   "outputs": [
    {
     "data": {
      "text/plain": [
       "torch.Size([4, 8, 2])"
      ]
     },
     "execution_count": 40,
     "metadata": {},
     "output_type": "execute_result"
    }
   ],
   "source": [
    "torch.manual_seed(42)\n",
    "B,T,C = 4,8,2\n",
    "x = torch.randn(B,T,C)\n",
    "x.shape"
   ]
  },
  {
   "cell_type": "code",
   "execution_count": 42,
   "id": "36f636f6-ef2e-40a1-bb57-43111e294ce6",
   "metadata": {},
   "outputs": [],
   "source": [
    "xbow = torch.zeros((B,T,C))\n",
    "for b in range(B):\n",
    "    for t in range(T):\n",
    "        xprev = x[b,:t+1]\n",
    "        xbow[b,t] = torch.mean(xprev,dim = 0)"
   ]
  },
  {
   "cell_type": "code",
   "execution_count": null,
   "id": "c926e929-4e68-4246-ac75-141f89617271",
   "metadata": {},
   "outputs": [],
   "source": []
  }
 ],
 "metadata": {
  "kernelspec": {
   "display_name": "Python 3",
   "language": "python",
   "name": "python3"
  },
  "language_info": {
   "codemirror_mode": {
    "name": "ipython",
    "version": 3
   },
   "file_extension": ".py",
   "mimetype": "text/x-python",
   "name": "python",
   "nbconvert_exporter": "python",
   "pygments_lexer": "ipython3",
   "version": "3.9.5"
  }
 },
 "nbformat": 4,
 "nbformat_minor": 5
}
