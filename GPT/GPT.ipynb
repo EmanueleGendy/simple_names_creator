{
 "cells": [
  {
   "cell_type": "code",
   "execution_count": 17,
   "id": "f0fc59bd-397f-4ce6-9422-d82a4e1a2d74",
   "metadata": {},
   "outputs": [],
   "source": [
    "import torch"
   ]
  },
  {
   "cell_type": "code",
   "execution_count": 1,
   "id": "530e1c37-1a07-449e-8ebb-f466ac93364d",
   "metadata": {},
   "outputs": [],
   "source": [
    "with open('input.txt', 'r', encoding='utf-8') as f:\n",
    "    text = f.read()"
   ]
  },
  {
   "cell_type": "code",
   "execution_count": 3,
   "id": "94762491-08fa-49fd-a425-92dc56829fed",
   "metadata": {},
   "outputs": [
    {
     "name": "stdout",
     "output_type": "stream",
     "text": [
      "length of dataset in characters:  1115394\n"
     ]
    }
   ],
   "source": [
    "print(\"length of dataset in characters: \", len(text))"
   ]
  },
  {
   "cell_type": "code",
   "execution_count": 6,
   "id": "b871801b-9735-4f88-8b59-e68cf5a3bdc8",
   "metadata": {},
   "outputs": [
    {
     "name": "stdout",
     "output_type": "stream",
     "text": [
      "\n",
      " !$&',-.3:;?ABCDEFGHIJKLMNOPQRSTUVWXYZabcdefghijklmnopqrstuvwxyz\n",
      "65\n"
     ]
    }
   ],
   "source": [
    "chars = sorted(list(set(text)))\n",
    "vocab_size = len(chars)\n",
    "print(''.join(chars))\n",
    "print(vocab_size)"
   ]
  },
  {
   "cell_type": "code",
   "execution_count": 14,
   "id": "c05c99fd-f7e3-47bc-b77e-b7c3ed0c3209",
   "metadata": {},
   "outputs": [],
   "source": [
    "stoi = {ch:i for i,ch in enumerate(chars)}\n",
    "itos = {i:ch for i,ch in enumerate(chars)}\n",
    "encode = lambda s: [stoi[c] for c in s]\n",
    "decode = lambda n: ''.join([itos[i] for i in n])"
   ]
  },
  {
   "cell_type": "markdown",
   "id": "18795790-6f13-4f34-b0a4-05fae7e4f166",
   "metadata": {},
   "source": [
    "Split the data into tranining and validation sets"
   ]
  },
  {
   "cell_type": "code",
   "execution_count": 38,
   "id": "0d953001-c053-4d0b-b341-9a70bf11694d",
   "metadata": {},
   "outputs": [],
   "source": [
    "n = int(0.9*len(data))\n",
    "train_data = data[:n]\n",
    "val_data = data[n:]"
   ]
  },
  {
   "cell_type": "code",
   "execution_count": 39,
   "id": "31513666-a3aa-4911-a9b3-0850a99a9903",
   "metadata": {},
   "outputs": [
    {
     "data": {
      "text/plain": [
       "tensor([18, 47, 56, 57, 58,  1, 15, 47, 58])"
      ]
     },
     "execution_count": 39,
     "metadata": {},
     "output_type": "execute_result"
    }
   ],
   "source": [
    "block_size = 8\n",
    "train_data[:block_size +1]"
   ]
  },
  {
   "cell_type": "code",
   "execution_count": 44,
   "id": "d16c7431-bae1-420c-b392-1c5bbb8b408f",
   "metadata": {},
   "outputs": [],
   "source": [
    "torch.manual_seed(1337)\n",
    "batch_size = 4\n",
    "block_size = 8\n",
    "\n",
    "def get_batch(split):\n",
    "    data = train_data if split == 'train' else val_data\n",
    "    ix = torch.randint(len(data)- block_size, (batch_size,))\n",
    "    x = torch.stack([data[i:i+block_size] for i in ix])\n",
    "    y = torch.stack([data[i+1:i+block_size+1] for i in ix])\n",
    "    return x,y"
   ]
  },
  {
   "cell_type": "code",
   "execution_count": 45,
   "id": "a54b7907-cc46-4310-b23e-5b3f69a93c31",
   "metadata": {},
   "outputs": [],
   "source": [
    "xb,yb = get_batch('train')"
   ]
  },
  {
   "cell_type": "code",
   "execution_count": 46,
   "id": "8d5d4b32-2f8f-4288-8836-caeb5ab0a472",
   "metadata": {},
   "outputs": [
    {
     "name": "stdout",
     "output_type": "stream",
     "text": [
      "inputs:\n",
      " tensor([[24, 43, 58,  5, 57,  1, 46, 43],\n",
      "        [44, 53, 56,  1, 58, 46, 39, 58],\n",
      "        [52, 58,  1, 58, 46, 39, 58,  1],\n",
      "        [25, 17, 27, 10,  0, 21,  1, 54]]) torch.Size([4, 8])\n",
      "targets:\n",
      " tensor([[43, 58,  5, 57,  1, 46, 43, 39],\n",
      "        [53, 56,  1, 58, 46, 39, 58,  1],\n",
      "        [58,  1, 58, 46, 39, 58,  1, 46],\n",
      "        [17, 27, 10,  0, 21,  1, 54, 39]]) torch.Size([4, 8])\n"
     ]
    }
   ],
   "source": [
    "print('inputs:\\n',xb,xb.shape)\n",
    "print('targets:\\n',yb,yb.shape)"
   ]
  },
  {
   "cell_type": "code",
   "execution_count": null,
   "id": "9c9f96a8-5dbc-4020-820e-f9894044755d",
   "metadata": {},
   "outputs": [],
   "source": [
    "for b in range(batch_size):\n",
    "    fro "
   ]
  }
 ],
 "metadata": {
  "kernelspec": {
   "display_name": "Python 3",
   "language": "python",
   "name": "python3"
  },
  "language_info": {
   "codemirror_mode": {
    "name": "ipython",
    "version": 3
   },
   "file_extension": ".py",
   "mimetype": "text/x-python",
   "name": "python",
   "nbconvert_exporter": "python",
   "pygments_lexer": "ipython3",
   "version": "3.9.5"
  }
 },
 "nbformat": 4,
 "nbformat_minor": 5
}
