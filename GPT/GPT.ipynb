{
 "cells": [
  {
   "cell_type": "code",
   "execution_count": 1,
   "id": "f0fc59bd-397f-4ce6-9422-d82a4e1a2d74",
   "metadata": {},
   "outputs": [
    {
     "data": {
      "text/plain": [
       "<torch._C.Generator at 0x7f86d0505190>"
      ]
     },
     "execution_count": 1,
     "metadata": {},
     "output_type": "execute_result"
    }
   ],
   "source": [
    "import torch\n",
    "import torch.nn as nn\n",
    "from torch.nn import functional as F\n",
    "\n",
    "torch.manual_seed(1337)\n"
   ]
  },
  {
   "cell_type": "code",
   "execution_count": 8,
   "id": "530e1c37-1a07-449e-8ebb-f466ac93364d",
   "metadata": {},
   "outputs": [],
   "source": [
    "with open('input.txt', 'r', encoding='utf-8') as f:\n",
    "    text = f.read()"
   ]
  },
  {
   "cell_type": "code",
   "execution_count": 9,
   "id": "94762491-08fa-49fd-a425-92dc56829fed",
   "metadata": {},
   "outputs": [
    {
     "name": "stdout",
     "output_type": "stream",
     "text": [
      "length of dataset in characters:  1115394\n"
     ]
    }
   ],
   "source": [
    "print(\"length of dataset in characters: \", len(text))"
   ]
  },
  {
   "cell_type": "code",
   "execution_count": 10,
   "id": "b871801b-9735-4f88-8b59-e68cf5a3bdc8",
   "metadata": {},
   "outputs": [
    {
     "name": "stdout",
     "output_type": "stream",
     "text": [
      "\n",
      " !$&',-.3:;?ABCDEFGHIJKLMNOPQRSTUVWXYZabcdefghijklmnopqrstuvwxyz\n",
      "65\n"
     ]
    }
   ],
   "source": [
    "chars = sorted(list(set(text)))\n",
    "vocab_size = len(chars)\n",
    "print(''.join(chars))\n",
    "print(vocab_size)"
   ]
  },
  {
   "cell_type": "code",
   "execution_count": 13,
   "id": "c05c99fd-f7e3-47bc-b77e-b7c3ed0c3209",
   "metadata": {},
   "outputs": [],
   "source": [
    "stoi = {ch:i for i,ch in enumerate(chars)}\n",
    "itos = {i:ch for i,ch in enumerate(chars)}\n",
    "encode = lambda s: [stoi[c] for c in s]\n",
    "decode = lambda n: ''.join([itos[i] for i in n])\n",
    "\n",
    "data = torch.tensor(encode(text), dtype=torch.long)\n"
   ]
  },
  {
   "cell_type": "markdown",
   "id": "18795790-6f13-4f34-b0a4-05fae7e4f166",
   "metadata": {},
   "source": [
    "Split the data into tranining and validation sets"
   ]
  },
  {
   "cell_type": "code",
   "execution_count": 14,
   "id": "0d953001-c053-4d0b-b341-9a70bf11694d",
   "metadata": {},
   "outputs": [],
   "source": [
    "n = int(0.9*len(data))\n",
    "train_data = data[:n]\n",
    "val_data = data[n:]"
   ]
  },
  {
   "cell_type": "code",
   "execution_count": 15,
   "id": "31513666-a3aa-4911-a9b3-0850a99a9903",
   "metadata": {},
   "outputs": [
    {
     "data": {
      "text/plain": [
       "tensor([18, 47, 56, 57, 58,  1, 15, 47, 58])"
      ]
     },
     "execution_count": 15,
     "metadata": {},
     "output_type": "execute_result"
    }
   ],
   "source": [
    "block_size = 8\n",
    "train_data[:block_size +1]"
   ]
  },
  {
   "cell_type": "code",
   "execution_count": 16,
   "id": "d16c7431-bae1-420c-b392-1c5bbb8b408f",
   "metadata": {},
   "outputs": [],
   "source": [
    "batch_size = 4\n",
    "block_size = 8\n",
    "\n",
    "def get_batch(split):\n",
    "    data = train_data if split == 'train' else val_data\n",
    "    ix = torch.randint(len(data)- block_size, (batch_size,))\n",
    "    x = torch.stack([data[i:i+block_size] for i in ix])\n",
    "    y = torch.stack([data[i+1:i+block_size+1] for i in ix])\n",
    "    return x,y"
   ]
  },
  {
   "cell_type": "code",
   "execution_count": 36,
   "id": "a54b7907-cc46-4310-b23e-5b3f69a93c31",
   "metadata": {},
   "outputs": [],
   "source": [
    "xb,yb = get_batch('train')"
   ]
  },
  {
   "cell_type": "code",
   "execution_count": 18,
   "id": "8d5d4b32-2f8f-4288-8836-caeb5ab0a472",
   "metadata": {},
   "outputs": [
    {
     "name": "stdout",
     "output_type": "stream",
     "text": [
      "inputs:\n",
      " tensor([[24, 43, 58,  5, 57,  1, 46, 43],\n",
      "        [44, 53, 56,  1, 58, 46, 39, 58],\n",
      "        [52, 58,  1, 58, 46, 39, 58,  1],\n",
      "        [25, 17, 27, 10,  0, 21,  1, 54]]) torch.Size([4, 8])\n",
      "targets:\n",
      " tensor([[43, 58,  5, 57,  1, 46, 43, 39],\n",
      "        [53, 56,  1, 58, 46, 39, 58,  1],\n",
      "        [58,  1, 58, 46, 39, 58,  1, 46],\n",
      "        [17, 27, 10,  0, 21,  1, 54, 39]]) torch.Size([4, 8])\n"
     ]
    }
   ],
   "source": [
    "print('inputs:\\n',xb,xb.shape)\n",
    "print('targets:\\n',yb,yb.shape)"
   ]
  },
  {
   "cell_type": "code",
   "execution_count": 37,
   "id": "6dd01d26-e64c-4c43-9969-2b1c7f54201f",
   "metadata": {},
   "outputs": [
    {
     "data": {
      "text/plain": [
       "torch.Size([32, 8])"
      ]
     },
     "execution_count": 37,
     "metadata": {},
     "output_type": "execute_result"
    }
   ],
   "source": [
    "xb.shape"
   ]
  },
  {
   "cell_type": "code",
   "execution_count": null,
   "id": "b0e27d1b-8b94-4efd-9784-377180954eef",
   "metadata": {},
   "outputs": [],
   "source": []
  },
  {
   "cell_type": "code",
   "execution_count": 19,
   "id": "9c9f96a8-5dbc-4020-820e-f9894044755d",
   "metadata": {},
   "outputs": [
    {
     "name": "stdout",
     "output_type": "stream",
     "text": [
      "when context is [24] the target is: 43\n",
      "when context is [24, 43] the target is: 58\n",
      "when context is [24, 43, 58] the target is: 5\n",
      "when context is [24, 43, 58, 5] the target is: 57\n",
      "when context is [24, 43, 58, 5, 57] the target is: 1\n",
      "when context is [24, 43, 58, 5, 57, 1] the target is: 46\n",
      "when context is [24, 43, 58, 5, 57, 1, 46] the target is: 43\n",
      "when context is [24, 43, 58, 5, 57, 1, 46, 43] the target is: 39\n",
      "when context is [44] the target is: 53\n",
      "when context is [44, 53] the target is: 56\n",
      "when context is [44, 53, 56] the target is: 1\n",
      "when context is [44, 53, 56, 1] the target is: 58\n",
      "when context is [44, 53, 56, 1, 58] the target is: 46\n",
      "when context is [44, 53, 56, 1, 58, 46] the target is: 39\n",
      "when context is [44, 53, 56, 1, 58, 46, 39] the target is: 58\n",
      "when context is [44, 53, 56, 1, 58, 46, 39, 58] the target is: 1\n",
      "when context is [52] the target is: 58\n",
      "when context is [52, 58] the target is: 1\n",
      "when context is [52, 58, 1] the target is: 58\n",
      "when context is [52, 58, 1, 58] the target is: 46\n",
      "when context is [52, 58, 1, 58, 46] the target is: 39\n",
      "when context is [52, 58, 1, 58, 46, 39] the target is: 58\n",
      "when context is [52, 58, 1, 58, 46, 39, 58] the target is: 1\n",
      "when context is [52, 58, 1, 58, 46, 39, 58, 1] the target is: 46\n",
      "when context is [25] the target is: 17\n",
      "when context is [25, 17] the target is: 27\n",
      "when context is [25, 17, 27] the target is: 10\n",
      "when context is [25, 17, 27, 10] the target is: 0\n",
      "when context is [25, 17, 27, 10, 0] the target is: 21\n",
      "when context is [25, 17, 27, 10, 0, 21] the target is: 1\n",
      "when context is [25, 17, 27, 10, 0, 21, 1] the target is: 54\n",
      "when context is [25, 17, 27, 10, 0, 21, 1, 54] the target is: 39\n"
     ]
    }
   ],
   "source": [
    "for b in range(batch_size):\n",
    "    for t in range(block_size):\n",
    "        context = xb[b,:t+1]\n",
    "        target = yb[b,t]\n",
    "        print(f'when context is {context.tolist()} the target is: {target}')"
   ]
  },
  {
   "cell_type": "code",
   "execution_count": 26,
   "id": "78b16b88-88b4-4abd-aed6-0694a6585351",
   "metadata": {},
   "outputs": [],
   "source": [
    "class BigramLanguageModel(nn.Module):\n",
    "    def __init__(self,vocab_size):\n",
    "        super().__init__()\n",
    "        self.token_embedding_table = nn.Embedding(vocab_size,vocab_size)\n",
    "    \n",
    "    def forward(self,idx, targets=None):\n",
    "        logits = self.token_embedding_table(idx)\n",
    "        \n",
    "        if targets is None:\n",
    "            loss = None\n",
    "        else:\n",
    "            B, T , C = logits.shape\n",
    "            logits = logits.view(B*T,C)\n",
    "            targets = targets.view(B*T)\n",
    "            loss = F.cross_entropy(logits, targets)\n",
    "        return logits, loss\n",
    "    \n",
    "    def generate(self,idx,max_new_tokens):\n",
    "        for _ in range(max_new_tokens):\n",
    "            logits, loss = self(idx)\n",
    "            logits = logits[:,-1,:]\n",
    "            probs = F.softmax(logits, dim = -1)\n",
    "            idx_next = torch.multinomial(probs,num_samples = 1)\n",
    "            idx = torch.cat((idx,idx_next),dim = 1)\n",
    "        return idx\n"
   ]
  },
  {
   "cell_type": "code",
   "execution_count": 28,
   "id": "601ad5d6-7e48-42bd-854b-1354f477354f",
   "metadata": {},
   "outputs": [
    {
     "name": "stdout",
     "output_type": "stream",
     "text": [
      "torch.Size([32, 65])\n",
      "tensor(4.7288, grad_fn=<NllLossBackward0>)\n"
     ]
    }
   ],
   "source": [
    "m = BigramLanguageModel(vocab_size)\n",
    "logits, loss = m(xb,yb)\n",
    "print(logits.shape)\n",
    "print(loss)"
   ]
  },
  {
   "cell_type": "code",
   "execution_count": 31,
   "id": "c76cf912-c4ea-4f25-801d-faccc8abc6ab",
   "metadata": {},
   "outputs": [
    {
     "name": "stdout",
     "output_type": "stream",
     "text": [
      "\n",
      "dJKVkNxiMeNYjdOIh3yqDkUBH\n",
      "FZX;cTbVpwH\n",
      "UvCEFzXYVjEI'V-?apGhR chtuexzJSIU\n",
      ":uipGfLZ3i$mpXllY:JMFlj;\n",
      "XRG\n"
     ]
    }
   ],
   "source": [
    "idx = torch.zeros((1,1),dtype = torch.long)\n",
    "print(decode((m.generate(idx,max_new_tokens = 100)[0]).tolist()))"
   ]
  },
  {
   "cell_type": "code",
   "execution_count": 33,
   "id": "c6bed1e9-9842-4673-899c-4f02f02ad690",
   "metadata": {},
   "outputs": [],
   "source": [
    "optimizer = torch.optim.Adam(m.parameters(),lr=1e-3)"
   ]
  },
  {
   "cell_type": "code",
   "execution_count": 35,
   "id": "21e0b467-f752-4edf-8cb6-c15fc65bda9a",
   "metadata": {},
   "outputs": [
    {
     "name": "stdout",
     "output_type": "stream",
     "text": [
      "4.688744068145752\n",
      "4.542750358581543\n",
      "4.714441299438477\n",
      "4.519054412841797\n",
      "4.748159408569336\n",
      "4.4445695877075195\n",
      "4.573859691619873\n",
      "4.6024169921875\n",
      "4.7254252433776855\n",
      "4.561741352081299\n",
      "4.712865829467773\n",
      "4.502773284912109\n",
      "4.5777764320373535\n",
      "4.640673637390137\n",
      "4.620965957641602\n",
      "4.714259147644043\n",
      "4.505113124847412\n",
      "4.548577308654785\n",
      "4.6977691650390625\n",
      "4.628480434417725\n",
      "4.603488445281982\n",
      "4.700981140136719\n",
      "4.541628360748291\n",
      "4.609816074371338\n",
      "4.596613883972168\n",
      "4.518304824829102\n",
      "4.6689300537109375\n",
      "4.683122158050537\n",
      "4.593369483947754\n",
      "4.618943214416504\n",
      "4.533949375152588\n",
      "4.518628120422363\n",
      "4.621417999267578\n",
      "4.596273422241211\n",
      "4.515584945678711\n",
      "4.596221446990967\n",
      "4.623411178588867\n",
      "4.65731143951416\n",
      "4.599900722503662\n",
      "4.621892929077148\n",
      "4.565545558929443\n",
      "4.620325565338135\n",
      "4.568120002746582\n",
      "4.558705806732178\n",
      "4.532720565795898\n",
      "4.605710983276367\n",
      "4.5209574699401855\n",
      "4.66516637802124\n",
      "4.49791145324707\n",
      "4.650701522827148\n",
      "4.612490177154541\n",
      "4.6128129959106445\n",
      "4.540727615356445\n",
      "4.57422399520874\n",
      "4.588643550872803\n",
      "4.664854526519775\n",
      "4.528533935546875\n",
      "4.544821739196777\n",
      "4.593509197235107\n",
      "4.622561454772949\n",
      "4.519023895263672\n",
      "4.544847011566162\n",
      "4.540276050567627\n",
      "4.613839626312256\n",
      "4.509674072265625\n",
      "4.707730770111084\n",
      "4.5536627769470215\n",
      "4.511871337890625\n",
      "4.583765983581543\n",
      "4.5190582275390625\n",
      "4.564327239990234\n",
      "4.571387767791748\n",
      "4.470743179321289\n",
      "4.4023261070251465\n",
      "4.536494731903076\n",
      "4.572885513305664\n",
      "4.476199626922607\n",
      "4.55469274520874\n",
      "4.480224132537842\n",
      "4.601612091064453\n",
      "4.475223064422607\n",
      "4.511534214019775\n",
      "4.526304244995117\n",
      "4.557920932769775\n",
      "4.630418300628662\n",
      "4.585953235626221\n",
      "4.5024847984313965\n",
      "4.558658599853516\n",
      "4.61263370513916\n",
      "4.540151119232178\n",
      "4.536693572998047\n",
      "4.61437463760376\n",
      "4.500124931335449\n",
      "4.4818854331970215\n",
      "4.543659210205078\n",
      "4.537473678588867\n",
      "4.5894455909729\n",
      "4.532297611236572\n",
      "4.471216201782227\n",
      "4.648184776306152\n"
     ]
    }
   ],
   "source": [
    "batch_size = 32\n",
    "\n",
    "for steps in range(100):\n",
    "    xb,yb = get_batch('train')\n",
    "    logits, loss = m(xb,yb)\n",
    "    optimizer.zero_grad(set_to_none=True)\n",
    "    loss.backward()\n",
    "    optimizer.step()\n",
    "    \n",
    "    print(loss.item())"
   ]
  },
  {
   "cell_type": "markdown",
   "id": "a4ddb277-46c6-4281-acfb-421d5ad7805e",
   "metadata": {},
   "source": [
    "Self attention starts here"
   ]
  },
  {
   "cell_type": "code",
   "execution_count": 40,
   "id": "a792d2e2-1dc6-4106-92a7-e2a23eff62c1",
   "metadata": {},
   "outputs": [
    {
     "data": {
      "text/plain": [
       "torch.Size([4, 8, 2])"
      ]
     },
     "execution_count": 40,
     "metadata": {},
     "output_type": "execute_result"
    }
   ],
   "source": [
    "torch.manual_seed(42)\n",
    "B,T,C = 4,8,2\n",
    "x = torch.randn(B,T,C)\n",
    "x.shape"
   ]
  },
  {
   "cell_type": "code",
   "execution_count": 42,
   "id": "36f636f6-ef2e-40a1-bb57-43111e294ce6",
   "metadata": {},
   "outputs": [],
   "source": [
    "xbow = torch.zeros((B,T,C))\n",
    "for b in range(B):\n",
    "    for t in range(T):\n",
    "        xprev = x[b,:t+1]\n",
    "        xbow[b,t] = torch.mean(xprev,dim = 0)"
   ]
  },
  {
   "cell_type": "code",
   "execution_count": null,
   "id": "c926e929-4e68-4246-ac75-141f89617271",
   "metadata": {},
   "outputs": [],
   "source": []
  }
 ],
 "metadata": {
  "kernelspec": {
   "display_name": "Python 3",
   "language": "python",
   "name": "python3"
  },
  "language_info": {
   "codemirror_mode": {
    "name": "ipython",
    "version": 3
   },
   "file_extension": ".py",
   "mimetype": "text/x-python",
   "name": "python",
   "nbconvert_exporter": "python",
   "pygments_lexer": "ipython3",
   "version": "3.9.5"
  }
 },
 "nbformat": 4,
 "nbformat_minor": 5
}
